{
 "cells": [
  {
   "cell_type": "code",
   "execution_count": 1,
   "id": "324c43db-00d9-4e19-9173-337549396179",
   "metadata": {
    "scrolled": true
   },
   "outputs": [
    {
     "name": "stdout",
     "output_type": "stream",
     "text": [
      "Requirement already satisfied: ultralytics in /opt/conda/lib/python3.10/site-packages (8.0.190)\n",
      "Requirement already satisfied: matplotlib>=3.3.0 in /opt/conda/lib/python3.10/site-packages (from ultralytics) (3.7.1)\n",
      "Requirement already satisfied: numpy>=1.22.2 in /opt/conda/lib/python3.10/site-packages (from ultralytics) (1.24.3)\n",
      "Requirement already satisfied: opencv-python>=4.6.0 in /opt/conda/lib/python3.10/site-packages (from ultralytics) (4.8.0)\n",
      "Requirement already satisfied: pillow>=7.1.2 in /opt/conda/lib/python3.10/site-packages (from ultralytics) (9.5.0)\n",
      "Requirement already satisfied: pyyaml>=5.3.1 in /opt/conda/lib/python3.10/site-packages (from ultralytics) (6.0)\n",
      "Requirement already satisfied: requests>=2.23.0 in /opt/conda/lib/python3.10/site-packages (from ultralytics) (2.31.0)\n",
      "Requirement already satisfied: scipy>=1.4.1 in /opt/conda/lib/python3.10/site-packages (from ultralytics) (1.10.1)\n",
      "Requirement already satisfied: torch>=1.8.0 in /opt/conda/lib/python3.10/site-packages (from ultralytics) (1.13.1+cu116)\n",
      "Requirement already satisfied: torchvision>=0.9.0 in /opt/conda/lib/python3.10/site-packages (from ultralytics) (0.14.1+cu116)\n",
      "Requirement already satisfied: tqdm>=4.64.0 in /opt/conda/lib/python3.10/site-packages (from ultralytics) (4.65.0)\n",
      "Requirement already satisfied: pandas>=1.1.4 in /opt/conda/lib/python3.10/site-packages (from ultralytics) (2.0.2)\n",
      "Requirement already satisfied: seaborn>=0.11.0 in /opt/conda/lib/python3.10/site-packages (from ultralytics) (0.12.2)\n",
      "Requirement already satisfied: psutil in /opt/conda/lib/python3.10/site-packages (from ultralytics) (5.9.5)\n",
      "Requirement already satisfied: py-cpuinfo in /opt/conda/lib/python3.10/site-packages (from ultralytics) (9.0.0)\n",
      "Requirement already satisfied: thop>=0.1.1 in /opt/conda/lib/python3.10/site-packages (from ultralytics) (0.1.1.post2209072238)\n",
      "Requirement already satisfied: contourpy>=1.0.1 in /opt/conda/lib/python3.10/site-packages (from matplotlib>=3.3.0->ultralytics) (1.0.7)\n",
      "Requirement already satisfied: cycler>=0.10 in /opt/conda/lib/python3.10/site-packages (from matplotlib>=3.3.0->ultralytics) (0.11.0)\n",
      "Requirement already satisfied: fonttools>=4.22.0 in /opt/conda/lib/python3.10/site-packages (from matplotlib>=3.3.0->ultralytics) (4.39.4)\n",
      "Requirement already satisfied: kiwisolver>=1.0.1 in /opt/conda/lib/python3.10/site-packages (from matplotlib>=3.3.0->ultralytics) (1.4.4)\n",
      "Requirement already satisfied: packaging>=20.0 in /opt/conda/lib/python3.10/site-packages (from matplotlib>=3.3.0->ultralytics) (23.1)\n",
      "Requirement already satisfied: pyparsing>=2.3.1 in /opt/conda/lib/python3.10/site-packages (from matplotlib>=3.3.0->ultralytics) (3.0.9)\n",
      "Requirement already satisfied: python-dateutil>=2.7 in /opt/conda/lib/python3.10/site-packages (from matplotlib>=3.3.0->ultralytics) (2.8.2)\n",
      "Requirement already satisfied: pytz>=2020.1 in /opt/conda/lib/python3.10/site-packages (from pandas>=1.1.4->ultralytics) (2023.3)\n",
      "Requirement already satisfied: tzdata>=2022.1 in /opt/conda/lib/python3.10/site-packages (from pandas>=1.1.4->ultralytics) (2023.3)\n",
      "Requirement already satisfied: charset-normalizer<4,>=2 in /opt/conda/lib/python3.10/site-packages (from requests>=2.23.0->ultralytics) (3.1.0)\n",
      "Requirement already satisfied: idna<4,>=2.5 in /opt/conda/lib/python3.10/site-packages (from requests>=2.23.0->ultralytics) (3.4)\n",
      "Requirement already satisfied: urllib3<3,>=1.21.1 in /opt/conda/lib/python3.10/site-packages (from requests>=2.23.0->ultralytics) (1.26.16)\n",
      "Requirement already satisfied: certifi>=2017.4.17 in /opt/conda/lib/python3.10/site-packages (from requests>=2.23.0->ultralytics) (2023.7.22)\n",
      "Requirement already satisfied: typing-extensions in /opt/conda/lib/python3.10/site-packages (from torch>=1.8.0->ultralytics) (4.5.0)\n",
      "Requirement already satisfied: six>=1.5 in /opt/conda/lib/python3.10/site-packages (from python-dateutil>=2.7->matplotlib>=3.3.0->ultralytics) (1.16.0)\n"
     ]
    }
   ],
   "source": [
    "!pip install ultralytics"
   ]
  },
  {
   "cell_type": "code",
   "execution_count": 2,
   "id": "4dcaff17-daf8-4273-85ab-9a4a5f28a6d8",
   "metadata": {},
   "outputs": [
    {
     "name": "stdout",
     "output_type": "stream",
     "text": [
      "Requirement already satisfied: openvino in /opt/conda/lib/python3.10/site-packages (2023.1.0)\n",
      "Requirement already satisfied: numpy>=1.16.6 in /opt/conda/lib/python3.10/site-packages (from openvino) (1.24.3)\n",
      "Requirement already satisfied: openvino-telemetry>=2023.1.0 in /opt/conda/lib/python3.10/site-packages (from openvino) (2023.1.1)\n"
     ]
    }
   ],
   "source": [
    "!pip install openvino"
   ]
  },
  {
   "cell_type": "code",
   "execution_count": 3,
   "id": "79d1d0ec-0995-4c20-9621-3463c2795af6",
   "metadata": {},
   "outputs": [
    {
     "name": "stdout",
     "output_type": "stream",
     "text": [
      "Requirement already satisfied: pyyaml in /opt/conda/lib/python3.10/site-packages (6.0)\n"
     ]
    }
   ],
   "source": [
    "!pip install pyyaml"
   ]
  },
  {
   "cell_type": "code",
   "execution_count": 4,
   "id": "6569c72f-111b-4ac0-baf8-49c4f1029783",
   "metadata": {},
   "outputs": [],
   "source": [
    "from ultralytics import YOLO\n",
    "import numpy as np\n",
    "\n",
    "from PIL import Image\n",
    "import matplotlib.pyplot as plt\n",
    "from pathlib import Path\n",
    "import os\n",
    "import yaml\n",
    "import openvino as ov"
   ]
  },
  {
   "cell_type": "code",
   "execution_count": 5,
   "id": "9f8e789f-f793-4070-b772-4aade46bd926",
   "metadata": {},
   "outputs": [
    {
     "data": {
      "text/plain": [
       "640"
      ]
     },
     "execution_count": 5,
     "metadata": {},
     "output_type": "execute_result"
    }
   ],
   "source": [
    "yaml_file_path = 'models/best_openvino_model/metadata.yaml'\n",
    "\n",
    "with open(yaml_file_path, 'r') as yaml_file:\n",
    "    data = yaml.safe_load(yaml_file)\n",
    "\n",
    "model_imgsz = data['imgsz'][0]\n",
    "model_imgsz"
   ]
  },
  {
   "cell_type": "code",
   "execution_count": 6,
   "id": "cd95c318-f7d4-4ab9-ac54-627d0c3ba80f",
   "metadata": {},
   "outputs": [],
   "source": [
    "models_dir = Path('./models')\n",
    "FOLDER_PATH = Path('predict-img')\n",
    "DET_MODEL_NAME = \"best\"\n",
    "det_model_path = models_dir / f\"{DET_MODEL_NAME}_openvino_model/{DET_MODEL_NAME}.xml\"\n",
    "if not det_model_path.exists():\n",
    "    det_model.export(format=\"openvino\", dynamic=True, half=False)"
   ]
  },
  {
   "cell_type": "code",
   "execution_count": 7,
   "id": "5ee49477-120f-40ef-80a5-3fabcc8e0717",
   "metadata": {},
   "outputs": [],
   "source": [
    "conf=0.7\n",
    "iou_conf=0.5"
   ]
  },
  {
   "cell_type": "code",
   "execution_count": 8,
   "id": "834eac9a-bbe9-4af3-9ec4-7b6f5d217bae",
   "metadata": {},
   "outputs": [],
   "source": [
    "yolo_classes = ['address', 'company', 'email', 'name', 'position', 'tel']"
   ]
  },
  {
   "cell_type": "code",
   "execution_count": 9,
   "id": "fd831aa1-0800-4f6c-9fe2-64cc73a09948",
   "metadata": {},
   "outputs": [],
   "source": [
    "from set_vino.load_vino_port import LoadVino\n",
    "det_model_path=\"models/best_openvino_model/best.xml\"\n",
    "label_map = {\n",
    "    0: 'address',\n",
    "    1: 'company',\n",
    "    2: 'email',\n",
    "    3: 'name',\n",
    "    4: 'position',\n",
    "    5: 'tel'\n",
    "}  \n",
    "selected_device = \"CPU\"\n",
    "core = ov.Core()\n",
    "\n",
    "det_ov_model = core.read_model(det_model_path)\n",
    "det_ov_model.reshape({0: [1, 3, model_imgsz, model_imgsz]})\n",
    "det_compiled_model = core.compile_model(det_ov_model, selected_device)\n",
    "\n",
    "loader = LoadVino(det_model_path, selected_device, label_map, model_imgsz)\n",
    "# Define a function to perform detection\n",
    "\n",
    "IMAGE_PATH = Path('predict-img/business-card-predict-2.jpg')\n",
    "input_image = np.array(Image.open(IMAGE_PATH))"
   ]
  },
  {
   "cell_type": "code",
   "execution_count": 10,
   "id": "f7b88ade-4049-46c0-bd00-a376c727a9e1",
   "metadata": {},
   "outputs": [
    {
     "ename": "TypeError",
     "evalue": "loadVino.process_output() missing 2 required positional arguments: 'conf' and 'iou_conf'",
     "output_type": "error",
     "traceback": [
      "\u001b[0;31m---------------------------------------------------------------------------\u001b[0m",
      "\u001b[0;31mTypeError\u001b[0m                                 Traceback (most recent call last)",
      "Cell \u001b[0;32mIn[10], line 1\u001b[0m\n\u001b[0;32m----> 1\u001b[0m result \u001b[38;5;241m=\u001b[39m \u001b[43mloader\u001b[49m\u001b[38;5;241;43m.\u001b[39;49m\u001b[43mprocess_output\u001b[49m\u001b[43m(\u001b[49m\u001b[43minput_image\u001b[49m\u001b[43m,\u001b[49m\u001b[43m \u001b[49m\u001b[43minput_image\u001b[49m\u001b[38;5;241;43m.\u001b[39;49m\u001b[43mshape\u001b[49m\u001b[43m[\u001b[49m\u001b[38;5;241;43m1\u001b[39;49m\u001b[43m]\u001b[49m\u001b[43m,\u001b[49m\u001b[43m \u001b[49m\u001b[43minput_image\u001b[49m\u001b[38;5;241;43m.\u001b[39;49m\u001b[43mshape\u001b[49m\u001b[43m[\u001b[49m\u001b[38;5;241;43m0\u001b[39;49m\u001b[43m]\u001b[49m\u001b[43m)\u001b[49m\n",
      "\u001b[0;31mTypeError\u001b[0m: loadVino.process_output() missing 2 required positional arguments: 'conf' and 'iou_conf'"
     ]
    }
   ],
   "source": [
    "result = loader.process_output(input_image, input_image.shape[1], input_image.shape[0],conf, iou_conf)"
   ]
  },
  {
   "cell_type": "code",
   "execution_count": null,
   "id": "d0e52ab6-3e68-4ac4-aa26-69b3c853a42f",
   "metadata": {},
   "outputs": [],
   "source": [
    "image_with_boxes = loader.draw_results(result, input_image, label_map)\n",
    "Image.fromarray(image_with_boxes)"
   ]
  },
  {
   "cell_type": "code",
   "execution_count": null,
   "id": "ef494783-ed7d-419c-8fce-ab7186f6946a",
   "metadata": {},
   "outputs": [],
   "source": [
    "loader.format_detection(result, label_map)\n",
    "# loader.to_json()\n",
    "# print(loader.to_json())"
   ]
  },
  {
   "cell_type": "code",
   "execution_count": null,
   "id": "04d5a99e-f755-4772-962e-596e2c651cca",
   "metadata": {},
   "outputs": [],
   "source": []
  }
 ],
 "metadata": {
  "kernelspec": {
   "display_name": "Python 3 (ipykernel)",
   "language": "python",
   "name": "python3"
  },
  "language_info": {
   "codemirror_mode": {
    "name": "ipython",
    "version": 3
   },
   "file_extension": ".py",
   "mimetype": "text/x-python",
   "name": "python",
   "nbconvert_exporter": "python",
   "pygments_lexer": "ipython3",
   "version": "3.10.11"
  }
 },
 "nbformat": 4,
 "nbformat_minor": 5
}
